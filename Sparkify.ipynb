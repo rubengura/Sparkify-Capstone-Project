{
 "cells": [
  {
   "cell_type": "markdown",
   "metadata": {},
   "source": [
    "# Sparkify Project Workspace\n",
    "This workspace contains a tiny subset (128MB) of the full dataset available (12GB). Feel free to use this workspace to build your project, or to explore a smaller subset with Spark before deploying your cluster on the cloud. Instructions for setting up your Spark cluster is included in the last lesson of the Extracurricular Spark Course content.\n",
    "\n",
    "You can follow the steps below to guide your data analysis and model building portion of this project."
   ]
  },
  {
   "cell_type": "code",
   "execution_count": 1,
   "metadata": {},
   "outputs": [],
   "source": [
    "# import libraries\n",
    "import re\n",
    "from datetime import datetime\n",
    "\n",
    "import numpy as np\n",
    "import pandas as pd\n",
    "import matplotlib.pyplot as plt\n",
    "import seaborn as sns\n",
    "\n",
    "import pyspark\n",
    "from pyspark import SparkConf\n",
    "from pyspark.sql import SparkSession\n",
    "from pyspark.sql import Window\n",
    "import pyspark.sql.functions as F\n",
    "from pyspark.ml.feature import VectorAssembler, StandardScaler, OneHotEncoder, StringIndexer\n",
    "from pyspark.ml.classification import LogisticRegression, GBTClassifier, RandomForestClassifier\n",
    "from pyspark.ml.classification import LogisticRegressionModel, GBTClassificationModel, RandomForestClassificationModel\n",
    "from pyspark.ml.evaluation import BinaryClassificationEvaluator\n",
    "from pyspark.ml.tuning import CrossValidator, ParamGridBuilder"
   ]
  },
  {
   "cell_type": "code",
   "execution_count": 2,
   "metadata": {},
   "outputs": [],
   "source": [
    "# create a Spark session\n",
    "spark = SparkSession \\\n",
    "    .builder \\\n",
    "    .appName(\"Sparkify Capstone Project\") \\\n",
    "    .getOrCreate()"
   ]
  },
  {
   "cell_type": "markdown",
   "metadata": {},
   "source": [
    "# Load and Clean Dataset\n",
    "In this workspace, the mini-dataset file is `mini_sparkify_event_data.json`. Load and clean the dataset, checking for invalid or missing data - for example, records without userids or sessionids. "
   ]
  },
  {
   "cell_type": "code",
   "execution_count": 16,
   "metadata": {},
   "outputs": [
    {
     "data": {
      "text/plain": [
       "DataFrame[artist: string, auth: string, firstName: string, gender: string, itemInSession: bigint, lastName: string, length: double, level: string, location: string, method: string, page: string, registration: bigint, sessionId: bigint, song: string, status: bigint, ts: bigint, userAgent: string, userId: string]"
      ]
     },
     "execution_count": 16,
     "metadata": {},
     "output_type": "execute_result"
    }
   ],
   "source": [
    "path = \"mini_sparkify_event_data.json\"\n",
    "user_log = spark.read.json(path)\n",
    "user_log.persist()"
   ]
  },
  {
   "cell_type": "code",
   "execution_count": 4,
   "metadata": {},
   "outputs": [
    {
     "name": "stdout",
     "output_type": "stream",
     "text": [
      "286500 18\n"
     ]
    }
   ],
   "source": [
    "print(user_log.count(), len(user_log.columns))"
   ]
  },
  {
   "cell_type": "code",
   "execution_count": 4,
   "metadata": {},
   "outputs": [
    {
     "name": "stdout",
     "output_type": "stream",
     "text": [
      "root\n",
      " |-- artist: string (nullable = true)\n",
      " |-- auth: string (nullable = true)\n",
      " |-- firstName: string (nullable = true)\n",
      " |-- gender: string (nullable = true)\n",
      " |-- itemInSession: long (nullable = true)\n",
      " |-- lastName: string (nullable = true)\n",
      " |-- length: double (nullable = true)\n",
      " |-- level: string (nullable = true)\n",
      " |-- location: string (nullable = true)\n",
      " |-- method: string (nullable = true)\n",
      " |-- page: string (nullable = true)\n",
      " |-- registration: long (nullable = true)\n",
      " |-- sessionId: long (nullable = true)\n",
      " |-- song: string (nullable = true)\n",
      " |-- status: long (nullable = true)\n",
      " |-- ts: long (nullable = true)\n",
      " |-- userAgent: string (nullable = true)\n",
      " |-- userId: string (nullable = true)\n",
      "\n"
     ]
    }
   ],
   "source": [
    "user_log.printSchema()"
   ]
  },
  {
   "cell_type": "code",
   "execution_count": 18,
   "metadata": {},
   "outputs": [],
   "source": [
    "user_log = user_log.filter((user_log.userId!=\"\") | (user_log.sessionId!=\"\"))"
   ]
  },
  {
   "cell_type": "markdown",
   "metadata": {},
   "source": [
    "# Exploratory Data Analysis\n",
    "When you're working with the full dataset, perform EDA by loading a small subset of the data and doing basic manipulations within Spark. In this workspace, you are already provided a small subset of data you can explore.\n",
    "\n",
    "### Define Churn\n",
    "\n",
    "Once you've done some preliminary analysis, create a column `Churn` to use as the label for your model. I suggest using the `Cancellation Confirmation` events to define your churn, which happen for both paid and free users. As a bonus task, you can also look into the `Downgrade` events.\n",
    "\n",
    "### Explore Data\n",
    "Once you've defined churn, perform some exploratory data analysis to observe the behavior for users who stayed vs users who churned. You can start by exploring aggregates on these two groups of users, observing how much of a specific action they experienced per a certain time unit or number of songs played."
   ]
  },
  {
   "cell_type": "code",
   "execution_count": 19,
   "metadata": {},
   "outputs": [],
   "source": [
    "churn_users = user_log.filter(user_log.page==\"Cancellation Confirmation\").select(\"userId\").dropDuplicates()\n",
    "churn_users_list = churn_users.toPandas()['userId'].values.tolist()\n",
    "user_log = user_log.withColumn('churn', user_log.userId.isin(churn_users_list))\n",
    "user_log = user_log.withColumn('region', F.split(user_log.location, ', ')[1])"
   ]
  },
  {
   "cell_type": "code",
   "execution_count": 20,
   "metadata": {},
   "outputs": [
    {
     "data": {
      "text/plain": [
       "58"
      ]
     },
     "execution_count": 20,
     "metadata": {},
     "output_type": "execute_result"
    }
   ],
   "source": [
    "user_log.select('region').dropDuplicates().count()"
   ]
  },
  {
   "cell_type": "code",
   "execution_count": 7,
   "metadata": {},
   "outputs": [],
   "source": [
    "set_time = F.udf(lambda x: datetime.fromtimestamp(x / 1000.0).strftime(\"%Y-%m-%d %H:%M:%S\"))\n",
    "user_log = user_log.withColumn(\"time\", F.to_timestamp(set_time(user_log.ts), 'yyyy-MM-dd HH:mm:ss'))"
   ]
  },
  {
   "cell_type": "code",
   "execution_count": 8,
   "metadata": {},
   "outputs": [],
   "source": [
    "user_agg_info = user_log.groupBy('userId').agg(F.min('gender').alias('gender'),\n",
    "                                                   F.min('region').alias('region'),\n",
    "                                                   F.min('ts').alias('firstSession'), \n",
    "                                                   F.max('ts').alias('lastSession'),\n",
    "                                                   F.count('song').alias('songsListened'),\n",
    "                                                   F.count('sessionId').alias('totalSessions'),\n",
    "                                                   F.min('churn').alias('churn')).sort('userId')\n",
    "\n",
    "user_agg_info = user_agg_info.withColumn(\"firstSession\", \\\n",
    "                    F.to_timestamp(set_time(user_agg_info.firstSession),'yyyy-MM-dd HH:mm:ss'))\n",
    "user_agg_info = user_agg_info.withColumn(\"lastSession\", \\\n",
    "                    F.to_timestamp(set_time(user_agg_info.lastSession),'yyyy-MM-dd HH:mm:ss'))\n",
    "user_agg_info = user_agg_info.withColumn('totalDays', F.datediff(\"lastSession\", \"firstSession\"))"
   ]
  },
  {
   "cell_type": "code",
   "execution_count": 9,
   "metadata": {},
   "outputs": [
    {
     "name": "stdout",
     "output_type": "stream",
     "text": [
      "+------+------+------+-------------------+-------------------+-------------+-------------+-----+---------+\n",
      "|userId|gender|region|       firstSession|        lastSession|songsListened|totalSessions|churn|totalDays|\n",
      "+------+------+------+-------------------+-------------------+-------------+-------------+-----+---------+\n",
      "|    10|     M|    MS|2018-10-08 02:20:20|2018-11-19 12:49:48|          673|          795|false|       42|\n",
      "|   100|     M|    TX|2018-10-02 15:04:22|2018-11-30 14:15:49|         2682|         3214|false|       59|\n",
      "|100001|     F|    FL|2018-10-01 06:48:24|2018-10-02 16:36:45|          133|          187| true|        1|\n",
      "|100002|     F|    CA|2018-10-08 22:57:25|2018-12-03 01:11:16|          195|          218|false|       56|\n",
      "|100003|     F|    FL|2018-10-09 15:53:40|2018-10-11 16:19:41|           51|           78| true|        2|\n",
      "|100004|     F|    NY|2018-10-03 02:47:15|2018-11-29 02:37:45|          942|         1245|false|       57|\n",
      "|100005|     M|    LA|2018-10-01 15:16:55|2018-10-19 17:57:05|          154|          216| true|       18|\n",
      "|100006|     F|    MI|2018-10-05 13:51:04|2018-10-05 15:24:30|           26|           44| true|        0|\n",
      "|100007|     F|    AR|2018-10-02 07:30:03|2018-11-29 11:45:09|          423|          520| true|       58|\n",
      "|100008|     F|    CA|2018-10-09 16:14:24|2018-11-27 16:13:39|          772|          940|false|       49|\n",
      "+------+------+------+-------------------+-------------------+-------------+-------------+-----+---------+\n",
      "only showing top 10 rows\n",
      "\n"
     ]
    }
   ],
   "source": [
    "user_agg_info.show(10)"
   ]
  },
  {
   "cell_type": "code",
   "execution_count": 9,
   "metadata": {},
   "outputs": [
    {
     "name": "stdout",
     "output_type": "stream",
     "text": [
      "+-----+-------------+\n",
      "|churn|count(userId)|\n",
      "+-----+-------------+\n",
      "| true|           52|\n",
      "|false|          173|\n",
      "+-----+-------------+\n",
      "\n"
     ]
    }
   ],
   "source": [
    "user_agg_info.groupBy('churn').agg(F.count('userId')).show()"
   ]
  },
  {
   "cell_type": "code",
   "execution_count": 10,
   "metadata": {},
   "outputs": [
    {
     "name": "stdout",
     "output_type": "stream",
     "text": [
      "+-----+------+-------------+\n",
      "|churn|gender|count(userId)|\n",
      "+-----+------+-------------+\n",
      "| true|     F|           20|\n",
      "|false|     M|           89|\n",
      "| true|     M|           32|\n",
      "|false|     F|           84|\n",
      "+-----+------+-------------+\n",
      "\n"
     ]
    }
   ],
   "source": [
    "user_agg_info.groupBy(['churn', 'gender']).agg(F.count('userId')).show()"
   ]
  },
  {
   "cell_type": "markdown",
   "metadata": {},
   "source": [
    "## Visualizations\n",
    "### Churn by Gender"
   ]
  },
  {
   "cell_type": "code",
   "execution_count": 11,
   "metadata": {},
   "outputs": [],
   "source": [
    "df = user_agg_info.toPandas()"
   ]
  },
  {
   "cell_type": "code",
   "execution_count": 17,
   "metadata": {},
   "outputs": [
    {
     "data": {
      "image/png": "[encoded data removed]",
      "text/plain": [
       "<matplotlib.figure.Figure at 0x7fe2dcbae1d0>"
      ]
     },
     "metadata": {
      "needs_background": "light"
     },
     "output_type": "display_data"
    }
   ],
   "source": [
    "fig, (ax1, ax2) = plt.subplots(1, 2, figsize=(10,7), sharey=True)\n",
    "ax1.bar(['No churn', 'Churn'], df[df['gender']=='F'].groupby(['churn'])['userId'].count())\n",
    "ax2.bar(['No churn', 'Churn'], df[df['gender']=='M'].groupby(['churn'])['userId'].count())\n",
    "ax1.set_title('Distribution of churn users on Female group')\n",
    "ax2.set_title('Distribution of churn users on Male group')\n",
    "plt.show()"
   ]
  },
  {
   "cell_type": "code",
   "execution_count": 13,
   "metadata": {},
   "outputs": [
    {
     "data": {
      "text/plain": [
       "churn\n",
       "False    54\n",
       "True     29\n",
       "Name: region, dtype: int64"
      ]
     },
     "execution_count": 13,
     "metadata": {},
     "output_type": "execute_result"
    }
   ],
   "source": [
    "df.groupby('churn')['region'].nunique()"
   ]
  },
  {
   "cell_type": "markdown",
   "metadata": {},
   "source": [
    "There are regions that does not have churn users. For this reason we have to be cautious including this feature into our ML model. If we have churn users in the full dataset, then it will be ok to add the feature in the model, if not, then we could overfit our model."
   ]
  },
  {
   "cell_type": "markdown",
   "metadata": {},
   "source": [
    "### Churn by Songs and Days Registered"
   ]
  },
  {
   "cell_type": "code",
   "execution_count": 14,
   "metadata": {},
   "outputs": [
    {
     "data": {
      "image/png": "[encoded data removed]",
      "text/plain": [
       "<matplotlib.figure.Figure at 0x7f3fad1060f0>"
      ]
     },
     "metadata": {
      "needs_background": "light"
     },
     "output_type": "display_data"
    }
   ],
   "source": [
    "churn = df[df['churn']==True]\n",
    "no_churn = df[df['churn']==False]\n",
    "\n",
    "plt.figure(figsize=(15,10))\n",
    "plt.scatter(churn['songsListened'], churn['totalDays'], edgecolor='black', label='Churn')\n",
    "plt.scatter(no_churn['songsListened'], no_churn['totalDays'], edgecolor='black', label='No Churn')\n",
    "plt.xlabel('Number of songs listened')\n",
    "plt.ylabel('Days registered')\n",
    "plt.grid()\n",
    "plt.legend()\n",
    "plt.show()"
   ]
  },
  {
   "cell_type": "markdown",
   "metadata": {},
   "source": [
    "### Churn by Total Sessions"
   ]
  },
  {
   "cell_type": "code",
   "execution_count": 20,
   "metadata": {},
   "outputs": [
    {
     "data": {
      "image/png": "[encoded data removed]",
      "text/plain": [
       "<matplotlib.figure.Figure at 0x7fe2dc505470>"
      ]
     },
     "metadata": {
      "needs_background": "light"
     },
     "output_type": "display_data"
    },
    {
     "data": {
      "text/plain": [
       "<pandas.plotting._core.FramePlotMethods object at 0x7fe2dc853c18>"
      ]
     },
     "execution_count": 20,
     "metadata": {},
     "output_type": "execute_result"
    }
   ],
   "source": [
    "plt.figure(figsize=(15,10))\n",
    "df.groupby('churn')['totalSessions'].plot(kind='hist', alpha=0.6, edgecolor='black', bins=30, \n",
    "                                          title='Histogram of total number of sessions')\n",
    "plt.xlabel('Number of sessions')\n",
    "plt.show()\n",
    "df.plot"
   ]
  },
  {
   "cell_type": "markdown",
   "metadata": {},
   "source": [
    "# Feature Engineering\n",
    "Once you've familiarized yourself with the data, build out the features you find promising to train your model on. To work with the full dataset, you can follow the following steps.\n",
    "- Write a script to extract the necessary features from the smaller subset of data\n",
    "- Ensure that your script is scalable, using the best practices discussed in Lesson 3\n",
    "- Try your script on the full data set, debugging your script if necessary\n",
    "\n",
    "If you are working in the classroom workspace, you can just extract features based on the small subset of data contained here. Be sure to transfer over this work to the larger dataset when you work on your Spark cluster.\n",
    "\n",
    "## Steps:"
   ]
  },
  {
   "cell_type": "markdown",
   "metadata": {},
   "source": [
    "### 1. Locate the US state from the user location (already done in the previous part)"
   ]
  },
  {
   "cell_type": "code",
   "execution_count": 16,
   "metadata": {},
   "outputs": [],
   "source": [
    "user_log = user_log.withColumn('region', F.split(user_log.location, ', ')[1])"
   ]
  },
  {
   "cell_type": "markdown",
   "metadata": {},
   "source": [
    "### 2. Get gender, region, first/last session, number of songs listened and number of total sessions by user"
   ]
  },
  {
   "cell_type": "code",
   "execution_count": 17,
   "metadata": {},
   "outputs": [],
   "source": [
    "user_agg_info = user_log.groupBy('userId').agg(F.min('gender').alias('gender'),\n",
    "                                                   F.min('region').alias('region'),\n",
    "                                                   F.min('ts').alias('firstSession'), \n",
    "                                                   F.max('ts').alias('lastSession'),\n",
    "                                                   F.count('song').alias('songsListened'),\n",
    "                                                   F.count('sessionId').alias('totalSessions')).sort('userId')\n",
    "\n",
    "user_agg_info = user_agg_info.withColumn(\"firstSession\", \\\n",
    "                    F.to_timestamp(set_time(user_agg_info.firstSession),'yyyy-MM-dd HH:mm:ss'))\n",
    "user_agg_info = user_agg_info.withColumn(\"lastSession\", \\\n",
    "                    F.to_timestamp(set_time(user_agg_info.lastSession),'yyyy-MM-dd HH:mm:ss'))\n",
    "user_agg_info = user_agg_info.withColumn('totalDays', F.datediff(\"lastSession\", \"firstSession\"))\n",
    "user_agg_info = user_agg_info.drop('firstSession').drop('lastSession')"
   ]
  },
  {
   "cell_type": "markdown",
   "metadata": {},
   "source": [
    "### 3. Get the current suscription plan of each user"
   ]
  },
  {
   "cell_type": "code",
   "execution_count": 18,
   "metadata": {},
   "outputs": [],
   "source": [
    "user_level = user_log.groupby(\"userId\", \"level\").agg(F.max(user_log.time).alias(\"lastSession\")).sort(\"userId\")\n",
    "user_last_level = user_level.groupBy('userId').agg(F.max(user_level.lastSession).alias('lastSession'))\n",
    "user_last_level = user_last_level.join(user_level, \n",
    "                  [user_level.userId == user_last_level.userId,\n",
    "                  user_last_level.lastSession == user_level.lastSession]).select(\n",
    "                  user_level.userId, \"level\").sort(\"userId\")"
   ]
  },
  {
   "cell_type": "markdown",
   "metadata": {},
   "source": [
    "### 4. Compute the number of clicks to each page by user"
   ]
  },
  {
   "cell_type": "code",
   "execution_count": 19,
   "metadata": {},
   "outputs": [],
   "source": [
    "user_page_counts_long = user_log.groupBy(['userId', 'page']).agg(F.count('page').alias('clicks'))\n",
    "user_page_counts_wide = user_page_counts_long.groupBy('userId').pivot('page').agg(F.first('clicks')).sort('userId')\n",
    "# Dropping Cancel and Cancelation Page as it is the page of churn\n",
    "user_page_counts_wide = user_page_counts_wide.drop('Cancel') \n",
    "user_page_counts_wide = user_page_counts_wide.drop('Cancellation Confirmation') \n",
    "# Replacing nulls by 0 as they represent absence of clicks in that page\n",
    "user_page_counts = user_page_counts_wide.na.fill(0) "
   ]
  },
  {
   "cell_type": "markdown",
   "metadata": {},
   "source": [
    "### 5. Compute the average time session by user"
   ]
  },
  {
   "cell_type": "code",
   "execution_count": 20,
   "metadata": {},
   "outputs": [],
   "source": [
    "user_session_time = user_log.groupby(\"userId\", \"sessionId\").agg(\n",
    "    ((F.max(user_log.ts) - F.min(user_log.ts))/(1000*60)).alias(\"lengthSession\"))\n",
    "user_avg_session_time = user_session_time.groupby(\"userId\").agg(\n",
    "    F.avg(user_session_time.lengthSession).alias(\"avgSessionTime\")).sort(\"userId\")"
   ]
  },
  {
   "cell_type": "markdown",
   "metadata": {},
   "source": [
    "### 6. Add label churn"
   ]
  },
  {
   "cell_type": "code",
   "execution_count": 21,
   "metadata": {},
   "outputs": [],
   "source": [
    "user_churn = user_log.groupBy('userId').agg(F.min('churn').alias('churn')).sort('userId')"
   ]
  },
  {
   "cell_type": "markdown",
   "metadata": {},
   "source": [
    "### 6. Merge all DataFrames and convert to numeric binary columns"
   ]
  },
  {
   "cell_type": "code",
   "execution_count": 22,
   "metadata": {},
   "outputs": [],
   "source": [
    "user_ml_df = user_agg_info.join(user_last_level, on='userId')\n",
    "user_ml_df = user_ml_df.join(user_avg_session_time, on='userId')\n",
    "user_ml_df = user_ml_df.join(user_page_counts, on='userId')\n",
    "user_ml_df = user_ml_df.join(user_churn, on='userId')\n",
    "\n",
    "user_ml_df = user_ml_df.replace([\"M\", \"F\"], [\"0\", \"1\"], \"gender\")\n",
    "user_ml_df = user_ml_df.replace([\"free\", \"paid\"], [\"0\", \"1\"], \"level\")\n",
    "user_ml_df = user_ml_df.replace([\"false\", \"true\"], [\"0\", \"1\"], \"churn\")\n",
    "user_ml_df = user_ml_df.withColumn('gender', user_ml_df.gender.cast(\"float\"))\n",
    "user_ml_df = user_ml_df.withColumn('level', user_ml_df.level.cast(\"float\"))"
   ]
  },
  {
   "cell_type": "code",
   "execution_count": 23,
   "metadata": {},
   "outputs": [
    {
     "name": "stdout",
     "output_type": "stream",
     "text": [
      "+------+------+--------+-------------+-------------+---------+-----+------------------+-----+----------+---------------+---------+-----+----+----+------+--------+-----------+-------------+--------+----------------+--------------+-----------+---------+-------+-----+\n",
      "|userId|gender|  region|songsListened|totalSessions|totalDays|level|    avgSessionTime|About|Add Friend|Add to Playlist|Downgrade|Error|Help|Home|Logout|NextSong|Roll Advert|Save Settings|Settings|Submit Downgrade|Submit Upgrade|Thumbs Down|Thumbs Up|Upgrade|churn|\n",
      "+------+------+--------+-------------+-------------+---------+-----+------------------+-----+----------+---------------+---------+-----+----+----+------+--------+-----------+-------------+--------+----------------+--------------+-----------+---------+-------+-----+\n",
      "|100010|   1.0|      CT|          275|          381|       44|  0.0|154.48333333333332|    1|         4|              7|        0|    0|   2|  11|     5|     275|         52|            0|       0|               0|             0|          5|       17|      2|false|\n",
      "|200002|   0.0|IL-IN-WI|          387|          474|       45|  1.0|266.40000000000003|    3|         4|              8|        5|    0|   2|  20|     5|     387|          7|            0|       3|               0|             1|          6|       21|      2|false|\n",
      "|   125|   0.0|      TX|            8|           11|        0|  0.0|29.566666666666666|    0|         0|              0|        0|    0|   0|   0|     0|       8|          1|            0|       0|               0|             0|          0|        0|      0| true|\n",
      "|   124|   1.0|      NJ|         4079|         4825|       60|  1.0| 578.9942528735633|    7|        74|            118|       41|    6|  23| 176|    59|    4079|          4|            6|      20|               0|             0|         41|      171|      0|false|\n",
      "|    51|   0.0|      KY|         2111|         2464|       16|  1.0| 872.3566666666666|    2|        28|             52|       23|    1|  12|  75|    24|    2111|          0|            1|      12|               0|             0|         21|      100|      0| true|\n",
      "+------+------+--------+-------------+-------------+---------+-----+------------------+-----+----------+---------------+---------+-----+----+----+------+--------+-----------+-------------+--------+----------------+--------------+-----------+---------+-------+-----+\n",
      "only showing top 5 rows\n",
      "\n"
     ]
    }
   ],
   "source": [
    "user_ml_df.show(5)"
   ]
  },
  {
   "cell_type": "code",
   "execution_count": 25,
   "metadata": {},
   "outputs": [],
   "source": [
    "file = \"user_ml_df.csv\"\n",
    "user_ml_df.write.save(file, format=\"csv\", header=True, mode='overwrite')"
   ]
  },
  {
   "cell_type": "markdown",
   "metadata": {},
   "source": [
    "# Modeling\n",
    "Split the full dataset into train, test, and validation sets. Test out several of the machine learning methods you learned. Evaluate the accuracy of the various models, tuning parameters as necessary. Determine your winning model based on test accuracy and report results on the validation set. Since the churned users are a fairly small subset, I suggest using F1 score as the metric to optimize."
   ]
  },
  {
   "cell_type": "code",
   "execution_count": 3,
   "metadata": {},
   "outputs": [
    {
     "data": {
      "text/plain": [
       "DataFrame[userId: string, gender: string, region: string, songsListened: string, totalSessions: string, totalDays: string, level: string, avgSessionTime: string, About: string, Add Friend: string, Add to Playlist: string, Downgrade: string, Error: string, Help: string, Home: string, Logout: string, NextSong: string, Roll Advert: string, Save Settings: string, Settings: string, Submit Downgrade: string, Submit Upgrade: string, Thumbs Down: string, Thumbs Up: string, Upgrade: string, churn: string]"
      ]
     },
     "execution_count": 3,
     "metadata": {},
     "output_type": "execute_result"
    }
   ],
   "source": [
    "user_ml_df = spark.read.csv(\"user_ml_df.csv\", header=True)\n",
    "user_ml_df.persist()"
   ]
  },
  {
   "cell_type": "code",
   "execution_count": 4,
   "metadata": {},
   "outputs": [
    {
     "name": "stdout",
     "output_type": "stream",
     "text": [
      "root\n",
      " |-- userId: string (nullable = true)\n",
      " |-- gender: string (nullable = true)\n",
      " |-- region: string (nullable = true)\n",
      " |-- songsListened: string (nullable = true)\n",
      " |-- totalSessions: string (nullable = true)\n",
      " |-- totalDays: string (nullable = true)\n",
      " |-- level: string (nullable = true)\n",
      " |-- avgSessionTime: string (nullable = true)\n",
      " |-- About: string (nullable = true)\n",
      " |-- Add Friend: string (nullable = true)\n",
      " |-- Add to Playlist: string (nullable = true)\n",
      " |-- Downgrade: string (nullable = true)\n",
      " |-- Error: string (nullable = true)\n",
      " |-- Help: string (nullable = true)\n",
      " |-- Home: string (nullable = true)\n",
      " |-- Logout: string (nullable = true)\n",
      " |-- NextSong: string (nullable = true)\n",
      " |-- Roll Advert: string (nullable = true)\n",
      " |-- Save Settings: string (nullable = true)\n",
      " |-- Settings: string (nullable = true)\n",
      " |-- Submit Downgrade: string (nullable = true)\n",
      " |-- Submit Upgrade: string (nullable = true)\n",
      " |-- Thumbs Down: string (nullable = true)\n",
      " |-- Thumbs Up: string (nullable = true)\n",
      " |-- Upgrade: string (nullable = true)\n",
      " |-- churn: string (nullable = true)\n",
      "\n"
     ]
    }
   ],
   "source": [
    "user_ml_df.printSchema()"
   ]
  },
  {
   "cell_type": "code",
   "execution_count": 22,
   "metadata": {},
   "outputs": [
    {
     "data": {
      "text/plain": [
       "26"
      ]
     },
     "execution_count": 22,
     "metadata": {},
     "output_type": "execute_result"
    }
   ],
   "source": [
    "len(user_ml_df.columns)"
   ]
  },
  {
   "cell_type": "code",
   "execution_count": 5,
   "metadata": {},
   "outputs": [],
   "source": [
    "# When reading the csv all the columns converted to string, so we have to cast the numeric columns to float\n",
    "user_ml_df = user_ml_df.replace([\"false\", \"true\"], [\"0\", \"1\"], \"churn\")\n",
    "numeric_columns = ['gender', 'songsListened', 'totalSessions', 'totalDays', 'level', 'avgSessionTime', 'About',\n",
    " 'Add Friend','Add to Playlist', 'Downgrade', 'Error', 'Help', 'Home', 'Logout', 'NextSong', \n",
    " 'Roll Advert', 'Save Settings', 'Settings', 'Submit Downgrade', 'Submit Upgrade', 'Thumbs Down', 'Thumbs Up',\n",
    " 'Upgrade', 'churn']\n",
    "\n",
    "user_ml_df = user_ml_df.select('userId', 'region', \n",
    "                               *(F.col(column).cast(\"float\").alias(column) for column in numeric_columns))"
   ]
  },
  {
   "cell_type": "code",
   "execution_count": 46,
   "metadata": {},
   "outputs": [],
   "source": [
    "# This cell is not used as region can make overfit the model\n",
    "# stringIndexer = StringIndexer(inputCol=\"region\", outputCol=\"indexed\")\n",
    "# model = stringIndexer.fit(user_ml_df)\n",
    "# user_ml_df = model.transform(user_ml_df)\n",
    "# encoder = OneHotEncoder(inputCol=\"indexed\", outputCol=\"regionEncoded\")\n",
    "# user_ml_df = encoder.transform(user_ml_df)\n",
    "# user_ml_df = user_ml_df.drop('indexed')"
   ]
  },
  {
   "cell_type": "code",
   "execution_count": 48,
   "metadata": {},
   "outputs": [
    {
     "name": "stdout",
     "output_type": "stream",
     "text": [
      "+------+------+------+-------------+-------------+---------+-----+--------------+-----+----------+---------------+---------+-----+----+----+------+--------+-----------+-------------+--------+----------------+--------------+-----------+---------+-------+-----+---------------+\n",
      "|userId|region|gender|songsListened|totalSessions|totalDays|level|avgSessionTime|About|Add Friend|Add to Playlist|Downgrade|Error|Help|Home|Logout|NextSong|Roll Advert|Save Settings|Settings|Submit Downgrade|Submit Upgrade|Thumbs Down|Thumbs Up|Upgrade|churn|  regionEncoded|\n",
      "+------+------+------+-------------+-------------+---------+-----+--------------+-----+----------+---------------+---------+-----+----+----+------+--------+-----------+-------------+--------+----------------+--------------+-----------+---------+-------+-----+---------------+\n",
      "|100004|    NY|   1.0|        942.0|       1245.0|     57.0|  1.0|     185.98651|  0.0|      19.0|           23.0|     10.0|  2.0| 6.0|66.0|  19.0|   942.0|       86.0|          2.0|    11.0|             2.0|           3.0|       11.0|     35.0|    8.0|  0.0|(57,[13],[1.0])|\n",
      "+------+------+------+-------------+-------------+---------+-----+--------------+-----+----------+---------------+---------+-----+----+----+------+--------+-----------+-------------+--------+----------------+--------------+-----------+---------+-------+-----+---------------+\n",
      "only showing top 1 row\n",
      "\n"
     ]
    }
   ],
   "source": [
    "user_ml_df.show(1)"
   ]
  },
  {
   "cell_type": "code",
   "execution_count": 6,
   "metadata": {},
   "outputs": [],
   "source": [
    "columns = ['gender', 'songsListened', 'totalSessions', 'totalDays', 'level', 'avgSessionTime', 'About',\n",
    " 'Add Friend', 'Add to Playlist', 'Downgrade', 'Error', 'Help', 'Home', 'Logout', 'NextSong',\n",
    " 'Roll Advert', 'Save Settings', 'Settings', 'Submit Downgrade', 'Submit Upgrade', 'Thumbs Down',\n",
    " 'Thumbs Up', 'Upgrade']"
   ]
  },
  {
   "cell_type": "code",
   "execution_count": 7,
   "metadata": {},
   "outputs": [],
   "source": [
    "assembler = VectorAssembler(inputCols=columns, outputCol=\"numColumns\")\n",
    "user_ml_df = assembler.transform(user_ml_df)\n",
    "\n",
    "scaler = StandardScaler(inputCol=\"numColumns\", outputCol=\"scaledColumns\", withStd=True)\n",
    "scalerModel = scaler.fit(user_ml_df)\n",
    "user_ml_df = scalerModel.transform(user_ml_df)"
   ]
  },
  {
   "cell_type": "code",
   "execution_count": 8,
   "metadata": {},
   "outputs": [],
   "source": [
    "ml_df = user_ml_df.select(user_ml_df.scaledColumns.alias('features'), user_ml_df.churn.alias('label'))"
   ]
  },
  {
   "cell_type": "code",
   "execution_count": 9,
   "metadata": {},
   "outputs": [
    {
     "name": "stdout",
     "output_type": "stream",
     "text": [
      "+--------------------+-----+\n",
      "|            features|label|\n",
      "+--------------------+-----+\n",
      "|[2.00127105192366...|  0.0|\n",
      "|[2.00127105192366...|  0.0|\n",
      "|[0.0,1.4878356154...|  0.0|\n",
      "|(23,[0,1,2,3,5,7,...|  0.0|\n",
      "|(23,[1,2,3,5,11,1...|  0.0|\n",
      "+--------------------+-----+\n",
      "only showing top 5 rows\n",
      "\n"
     ]
    }
   ],
   "source": [
    "ml_df.show(5)"
   ]
  },
  {
   "cell_type": "code",
   "execution_count": 10,
   "metadata": {},
   "outputs": [],
   "source": [
    "train, test = ml_df.randomSplit([0.8, 0.2], seed=42)\n",
    "train = train.cache()"
   ]
  },
  {
   "cell_type": "code",
   "execution_count": 11,
   "metadata": {},
   "outputs": [],
   "source": [
    "lr =  LogisticRegression()\n",
    "\n",
    "paramGrid = ParamGridBuilder() \\\n",
    "    .addGrid(lr.elasticNetParam, [0,1]) \\\n",
    "    .addGrid(lr.regParam, [0, 0.1]) \\\n",
    "    .build()\n",
    "\n",
    "crossval = CrossValidator(estimator=lr,\n",
    "                          estimatorParamMaps=paramGrid,\n",
    "                          evaluator=BinaryClassificationEvaluator(),\n",
    "                          numFolds=3)\n",
    "lr_model = crossval.fit(train)\n",
    "results_lr_train = lr_model.transform(train)\n",
    "results_lr_test = lr_model.transform(test)"
   ]
  },
  {
   "cell_type": "code",
   "execution_count": null,
   "metadata": {},
   "outputs": [],
   "source": [
    "rf = RandomForestClassifier()\n",
    "\n",
    "paramGrid = ParamGridBuilder() \\\n",
    "    .addGrid(rf.numTrees, [50, 100]) \\\n",
    "    .addGrid(rf.maxDepth, [5, 10]) \\\n",
    "    .build()\n",
    "\n",
    "crossval = CrossValidator(estimator=rf,\n",
    "                          estimatorParamMaps=paramGrid,\n",
    "                          evaluator=BinaryClassificationEvaluator(),\n",
    "                          numFolds=3)\n",
    "rf_model = crossval.fit(train)\n",
    "results_rf_train = rf_model.transform(train)\n",
    "results_rf_test = rf_model.transform(test)"
   ]
  },
  {
   "cell_type": "code",
   "execution_count": null,
   "metadata": {},
   "outputs": [],
   "source": [
    "gbt = GBTClassifier()\n",
    "\n",
    "paramGrid = ParamGridBuilder() \\\n",
    "    .addGrid(gbt.maxIter, [10, 30]) \\\n",
    "    .addGrid(gbt.maxDepth, [5, 10]) \\\n",
    "    .build()\n",
    "\n",
    "crossval = CrossValidator(estimator=gbt,\n",
    "                          estimatorParamMaps=paramGrid,\n",
    "                          evaluator=BinaryClassificationEvaluator(),\n",
    "                          numFolds=3)\n",
    "gbt_model = crossval.fit(train)\n",
    "results_gbt_train = gbt_model.transform(train)\n",
    "results_gbt_test = gbt_model.transform(test)"
   ]
  },
  {
   "cell_type": "code",
   "execution_count": 12,
   "metadata": {},
   "outputs": [],
   "source": [
    "def calculate_f1(results):\n",
    "    \"\"\"Given a table of pyspark.ml.model.transform results, the function calculates and returns the F1 score.\"\"\"\n",
    "    true_positives = results.filter(\"label = 1 and prediction = 1\").count()\n",
    "    false_positives = results.filter(\"label = 0 and prediction = 1\").count()\n",
    "    false_negatives = results.filter(\"label = 1 and prediction = 0\").count()\n",
    "    precision = true_positives / (true_positives + false_positives) \n",
    "    recall = true_positives / (true_positives + false_negatives)\n",
    "    f1 = 2 * precision * recall / (precision + recall)\n",
    "    \n",
    "    return f1"
   ]
  },
  {
   "cell_type": "code",
   "execution_count": 26,
   "metadata": {},
   "outputs": [],
   "source": [
    "results_df = pd.DataFrame({'score': [calculate_f1(results_lr_train), calculate_f1(results_rf_train),\n",
    "                                      calculate_f1(results_gbt_train), calculate_f1(results_lr_test),\n",
    "                                      calculate_f1(results_rf_test), calculate_f1(results_gbt_test)],\n",
    "                           'dataset': ['Train', 'Train', 'Train', 'Test', 'Test', 'Test'],\n",
    "                           'model': ['LogisticRegression', 'RandomForest', 'GradientBoosting',\n",
    "                                     'LogisticRegression', 'RandomForest', 'GradientBoosting']})"
   ]
  },
  {
   "cell_type": "code",
   "execution_count": 27,
   "metadata": {},
   "outputs": [
    {
     "data": {
      "image/png": "[encoded data removed]",
      "text/plain": [
       "<matplotlib.figure.Figure at 0x7f759588c630>"
      ]
     },
     "metadata": {
      "needs_background": "light"
     },
     "output_type": "display_data"
    }
   ],
   "source": [
    "plt.figure(figsize=(15,10))\n",
    "sns.barplot(x='model', y='score', hue='dataset', data=results_df)\n",
    "plt.title('F1 scores')\n",
    "plt.show()"
   ]
  },
  {
   "cell_type": "code",
   "execution_count": 39,
   "metadata": {},
   "outputs": [
    {
     "name": "stdout",
     "output_type": "stream",
     "text": [
      "F1 score in Logistic Regression model in trainset:  0.36065573770491804\n",
      "F1 score in Logistic Regression model in testset:  0.375\n",
      "F1 score in Random Forest model in trainset:  0.9113924050632911\n",
      "F1 score in Random Forest model in testset:  0.16666666666666666\n",
      "F1 score in Gradient Boosting model in trainset:  1.0\n",
      "F1 score in Gradient Boosting model in testset:  0.6\n"
     ]
    }
   ],
   "source": [
    "print('F1 score in Logistic Regression model in trainset: ',  calculate_f1(results_lr_train))\n",
    "print('F1 score in Logistic Regression model in testset: ', calculate_f1(results_lr_test))\n",
    "print('F1 score in Random Forest model in trainset: ', calculate_f1(results_rf_train))\n",
    "print('F1 score in Random Forest model in testset: ', calculate_f1(results_rf_test))\n",
    "print('F1 score in Gradient Boosting model in trainset: ', calculate_f1(results_gbt_train))\n",
    "print('F1 score in Gradient Boosting model in testset: ', calculate_f1(results_gbt_test))"
   ]
  },
  {
   "cell_type": "code",
   "execution_count": 42,
   "metadata": {},
   "outputs": [],
   "source": [
    "gbt = GBTClassifier()\n",
    "\n",
    "paramGrid = ParamGridBuilder() \\\n",
    "    .addGrid(gbt.maxIter, np.arange(10, 30, 10)) \\\n",
    "    .addGrid(gbt.maxDepth, np.arange(3, 7, 1)) \\\n",
    "    .addGrid(gbt.minInstancesPerNode, [1, 10, 20]) \\\n",
    "    .build()\n",
    "\n",
    "crossval = CrossValidator(estimator=gbt,\n",
    "                          estimatorParamMaps=paramGrid,\n",
    "                          evaluator=BinaryClassificationEvaluator(),\n",
    "                          numFolds=5)\n",
    "gbt_model_refined = crossval.fit(train)\n",
    "results_gbt = gbt_model_refined.transform(test)\n",
    "results_gbt_tr = gbt_model_refined.transform(train)"
   ]
  },
  {
   "cell_type": "code",
   "execution_count": 43,
   "metadata": {},
   "outputs": [
    {
     "name": "stdout",
     "output_type": "stream",
     "text": [
      "F1 score in Gradient Boosting model in trainset:  0.8\n",
      "F1 score in Gradient Boosting model in testset:  0.4800000000000001\n"
     ]
    }
   ],
   "source": [
    "print('F1 score in Gradient Boosting model in trainset: ', calculate_f1(results_gbt_tr))\n",
    "print('F1 score in Gradient Boosting model in testset: ', calculate_f1(results_gbt))"
   ]
  },
  {
   "cell_type": "code",
   "execution_count": 44,
   "metadata": {},
   "outputs": [
    {
     "data": {
      "image/png": "[encoded data removed]",
      "text/plain": [
       "<matplotlib.figure.Figure at 0x7f758f7f3dd8>"
      ]
     },
     "metadata": {
      "needs_background": "light"
     },
     "output_type": "display_data"
    }
   ],
   "source": [
    "results_df = pd.DataFrame({'score': [calculate_f1(results_gbt_tr), calculate_f1(results_gbt)],\n",
    "                           'dataset': ['Train', 'Test']})\n",
    "plt.figure(figsize=(7,5))\n",
    "sns.barplot(x='dataset', y='score', data=results_df)\n",
    "plt.title('Gradient Boosting F1 score')\n",
    "plt.show()"
   ]
  },
  {
   "cell_type": "code",
   "execution_count": 45,
   "metadata": {},
   "outputs": [
    {
     "data": {
      "text/plain": [
       "[0.6532052669552669,\n",
       " 0.6501196064284298,\n",
       " 0.6713964398890869,\n",
       " 0.6713964398890869,\n",
       " 0.6611285827462298,\n",
       " 0.6522474747474748,\n",
       " 0.6358338921427156,\n",
       " 0.6798785827462298,\n",
       " 0.6713964398890869,\n",
       " 0.6633607256033727,\n",
       " 0.6479772302860538,\n",
       " 0.6358338921427156,\n",
       " 0.6837454658631129,\n",
       " 0.68151332300597,\n",
       " 0.6801740372916842,\n",
       " 0.6472851908440144,\n",
       " 0.6344442817531053,\n",
       " 0.6730311801488271,\n",
       " 0.6841918944345414,\n",
       " 0.6828526087202558]"
      ]
     },
     "execution_count": 45,
     "metadata": {},
     "output_type": "execute_result"
    }
   ],
   "source": [
    "gbt_model.avgMetrics"
   ]
  },
  {
   "cell_type": "code",
   "execution_count": 46,
   "metadata": {},
   "outputs": [
    {
     "data": {
      "text/plain": [
       "SparseVector(23, {0: 0.0155, 1: 0.1256, 2: 0.0048, 3: 0.3899, 4: 0.0, 5: 0.0694, 6: 0.0008, 7: 0.028, 8: 0.0177, 9: 0.0028, 10: 0.0296, 11: 0.0, 12: 0.0, 13: 0.0076, 15: 0.0203, 16: 0.0211, 17: 0.0726, 19: 0.0, 20: 0.1193, 21: 0.0435, 22: 0.0314})"
      ]
     },
     "execution_count": 46,
     "metadata": {},
     "output_type": "execute_result"
    }
   ],
   "source": [
    "gbt_model.bestModel.featureImportances"
   ]
  },
  {
   "cell_type": "code",
   "execution_count": 47,
   "metadata": {},
   "outputs": [
    {
     "data": {
      "text/plain": [
       "['gender',\n",
       " 'songsListened',\n",
       " 'totalSessions',\n",
       " 'totalDays',\n",
       " 'level',\n",
       " 'avgSessionTime',\n",
       " 'About',\n",
       " 'Add Friend',\n",
       " 'Add to Playlist',\n",
       " 'Downgrade',\n",
       " 'Error',\n",
       " 'Help',\n",
       " 'Home',\n",
       " 'Logout',\n",
       " 'NextSong',\n",
       " 'Roll Advert',\n",
       " 'Save Settings',\n",
       " 'Settings',\n",
       " 'Submit Downgrade',\n",
       " 'Submit Upgrade',\n",
       " 'Thumbs Down',\n",
       " 'Thumbs Up',\n",
       " 'Upgrade']"
      ]
     },
     "execution_count": 47,
     "metadata": {},
     "output_type": "execute_result"
    }
   ],
   "source": [
    "columns"
   ]
  },
  {
   "cell_type": "markdown",
   "metadata": {},
   "source": [
    "# Final Steps\n",
    "Clean up your code, adding comments and renaming variables to make the code easier to read and maintain. Refer to the Spark Project Overview page and Data Scientist Capstone Project Rubric to make sure you are including all components of the capstone project and meet all expectations. Remember, this includes thorough documentation in a README file in a Github repository, as well as a web app or blog post."
   ]
  },
  {
   "cell_type": "code",
   "execution_count": 75,
   "metadata": {},
   "outputs": [
    {
     "name": "stdout",
     "output_type": "stream",
     "text": [
      "2.4.3 1.12.1 0.23.3 0.8.1\n"
     ]
    }
   ],
   "source": [
    "print(pyspark.__version__, np.__version__, pd.__version__, sns.__version__)"
   ]
  },
  {
   "cell_type": "code",
   "execution_count": 76,
   "metadata": {},
   "outputs": [
    {
     "name": "stdout",
     "output_type": "stream",
     "text": [
      "2.1.0\n"
     ]
    }
   ],
   "source": [
    "import matplotlib\n",
    "print(matplotlib.__version__)"
   ]
  },
  {
   "cell_type": "code",
   "execution_count": null,
   "metadata": {},
   "outputs": [],
   "source": []
  }
 ],
 "metadata": {
  "kernelspec": {
   "display_name": "Python 3",
   "language": "python",
   "name": "python3"
  },
  "language_info": {
   "codemirror_mode": {
    "name": "ipython",
    "version": 3
   },
   "file_extension": ".py",
   "mimetype": "text/x-python",
   "name": "python",
   "nbconvert_exporter": "python",
   "pygments_lexer": "ipython3",
   "version": "3.6.3"
  }
 },
 "nbformat": 4,
 "nbformat_minor": 2
}
